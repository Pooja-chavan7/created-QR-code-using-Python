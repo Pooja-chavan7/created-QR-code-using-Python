{
 "cells": [
  {
   "cell_type": "markdown",
   "id": "25c07ab3",
   "metadata": {},
   "source": [
    "# QR Code generator using Python"
   ]
  },
  {
   "cell_type": "code",
   "execution_count": 2,
   "id": "4d12eea0",
   "metadata": {},
   "outputs": [
    {
     "name": "stdout",
     "output_type": "stream",
     "text": [
      "Collecting qrcode\n",
      "  Obtaining dependency information for qrcode from https://files.pythonhosted.org/packages/24/79/aaf0c1c7214f2632badb2771d770b1500d3d7cbdf2590ae62e721ec50584/qrcode-7.4.2-py3-none-any.whl.metadata\n",
      "  Downloading qrcode-7.4.2-py3-none-any.whl.metadata (17 kB)\n",
      "Requirement already satisfied: typing-extensions in c:\\users\\pooja chavan\\anaconda3\\lib\\site-packages (from qrcode) (4.7.1)\n",
      "Collecting pypng (from qrcode)\n",
      "  Obtaining dependency information for pypng from https://files.pythonhosted.org/packages/3e/b9/3766cc361d93edb2ce81e2e1f87dd98f314d7d513877a342d31b30741680/pypng-0.20220715.0-py3-none-any.whl.metadata\n",
      "  Downloading pypng-0.20220715.0-py3-none-any.whl.metadata (13 kB)\n",
      "Requirement already satisfied: colorama in c:\\users\\pooja chavan\\anaconda3\\lib\\site-packages (from qrcode) (0.4.6)\n",
      "Downloading qrcode-7.4.2-py3-none-any.whl (46 kB)\n",
      "   ---------------------------------------- 0.0/46.2 kB ? eta -:--:--\n",
      "   -------------------------- ------------- 30.7/46.2 kB ? eta -:--:--\n",
      "   -------------------------- ------------- 30.7/46.2 kB ? eta -:--:--\n",
      "   -------------------------- ------------- 30.7/46.2 kB ? eta -:--:--\n",
      "   -------------------------- ------------- 30.7/46.2 kB ? eta -:--:--\n",
      "   -------------------------- ------------- 30.7/46.2 kB ? eta -:--:--\n",
      "   -------------------------- ------------- 30.7/46.2 kB ? eta -:--:--\n",
      "   -------------------------- ------------- 30.7/46.2 kB ? eta -:--:--\n",
      "   -------------------------- ------------- 30.7/46.2 kB ? eta -:--:--\n",
      "   -------------------------- ------------- 30.7/46.2 kB ? eta -:--:--\n",
      "   -------------------------- ------------- 30.7/46.2 kB ? eta -:--:--\n",
      "   -------------------------- ------------- 30.7/46.2 kB ? eta -:--:--\n",
      "   -------------------------- ------------- 30.7/46.2 kB ? eta -:--:--\n",
      "   -------------------------- ------------- 30.7/46.2 kB ? eta -:--:--\n",
      "   -------------------------- ------------- 30.7/46.2 kB ? eta -:--:--\n",
      "   -------------------------- ------------- 30.7/46.2 kB ? eta -:--:--\n",
      "   ----------------------------------- ---- 41.0/46.2 kB 41.8 kB/s eta 0:00:01\n",
      "   ---------------------------------------- 46.2/46.2 kB 46.9 kB/s eta 0:00:00\n",
      "Downloading pypng-0.20220715.0-py3-none-any.whl (58 kB)\n",
      "   ---------------------------------------- 0.0/58.1 kB ? eta -:--:--\n",
      "   --------------------- ------------------ 30.7/58.1 kB ? eta -:--:--\n",
      "   --------------------- ------------------ 30.7/58.1 kB ? eta -:--:--\n",
      "   --------------------- ------------------ 30.7/58.1 kB ? eta -:--:--\n",
      "   --------------------- ------------------ 30.7/58.1 kB ? eta -:--:--\n",
      "   --------------------- ------------------ 30.7/58.1 kB ? eta -:--:--\n",
      "   ---------------------------------------- 58.1/58.1 kB 170.2 kB/s eta 0:00:00\n",
      "Installing collected packages: pypng, qrcode\n",
      "Successfully installed pypng-0.20220715.0 qrcode-7.4.2\n",
      "Note: you may need to restart the kernel to use updated packages.\n"
     ]
    }
   ],
   "source": [
    "pip install qrcode"
   ]
  },
  {
   "cell_type": "code",
   "execution_count": 4,
   "id": "5d7fe61e",
   "metadata": {},
   "outputs": [],
   "source": [
    "import qrcode as qr"
   ]
  },
  {
   "cell_type": "code",
   "execution_count": 6,
   "id": "8f82603d",
   "metadata": {},
   "outputs": [],
   "source": [
    "img = qr.make(\"https://www.youtube.com/@FitTuber\")\n",
    "img.save(\"Fit_tuber.png\")"
   ]
  },
  {
   "cell_type": "code",
   "execution_count": 7,
   "id": "713078f4",
   "metadata": {},
   "outputs": [
    {
     "data": {
      "image/png": "[encoded data removed]",
      "text/plain": [
       "<qrcode.image.pil.PilImage at 0x17fe13f2650>"
      ]
     },
     "execution_count": 7,
     "metadata": {},
     "output_type": "execute_result"
    }
   ],
   "source": [
    "img"
   ]
  },
  {
   "cell_type": "code",
   "execution_count": 8,
   "id": "e93fbfad",
   "metadata": {},
   "outputs": [],
   "source": [
    "from PIL import Image"
   ]
  },
  {
   "cell_type": "code",
   "execution_count": 9,
   "id": "ab6e5c4a",
   "metadata": {},
   "outputs": [],
   "source": [
    "qcode = qr.QRCode(version=1,\n",
    "                 error_correction=qr.constants.ERROR_CORRECT_H,\n",
    "                 box_size=10,border=4,)"
   ]
  },
  {
   "cell_type": "code",
   "execution_count": 11,
   "id": "6db107bf",
   "metadata": {},
   "outputs": [],
   "source": [
    "qcode.add_data(\"https://www.youtube.com/@FitTuber\")\n",
    "qcode.make(fit=True)"
   ]
  },
  {
   "cell_type": "code",
   "execution_count": 23,
   "id": "20a481f7",
   "metadata": {},
   "outputs": [],
   "source": [
    "pic=qcode.make_image(fill_color=\"blue\",back_color=\"white\")"
   ]
  },
  {
   "cell_type": "code",
   "execution_count": 24,
   "id": "3c6bbb2d",
   "metadata": {},
   "outputs": [],
   "source": [
    "pic.save(\"Fitness_channel.png\")"
   ]
  },
  {
   "cell_type": "code",
   "execution_count": 25,
   "id": "e3551d88",
   "metadata": {},
   "outputs": [
    {
     "data": {
      "image/png": "[encoded data removed]",
      "text/plain": [
       "<qrcode.image.pil.PilImage at 0x17fe14fb790>"
      ]
     },
     "execution_count": 25,
     "metadata": {},
     "output_type": "execute_result"
    }
   ],
   "source": [
    "pic"
   ]
  },
  {
   "cell_type": "code",
   "execution_count": null,
   "id": "58bfcc0b",
   "metadata": {},
   "outputs": [],
   "source": []
  }
 ],
 "metadata": {
  "kernelspec": {
   "display_name": "Python 3 (ipykernel)",
   "language": "python",
   "name": "python3"
  },
  "language_info": {
   "codemirror_mode": {
    "name": "ipython",
    "version": 3
   },
   "file_extension": ".py",
   "mimetype": "text/x-python",
   "name": "python",
   "nbconvert_exporter": "python",
   "pygments_lexer": "ipython3",
   "version": "3.11.5"
  }
 },
 "nbformat": 4,
 "nbformat_minor": 5
}
